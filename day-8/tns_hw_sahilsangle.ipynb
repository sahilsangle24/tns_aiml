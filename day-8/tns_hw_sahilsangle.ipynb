{
 "cells": [
  {
   "cell_type": "markdown",
   "id": "02589b89",
   "metadata": {},
   "source": [
    "1. Write a program that converts a list of tuples into a dictionary. \n",
    "Example: [('a', 1), ('b', 2)] → {'a': 1, 'b': 2}"
   ]
  },
  {
   "cell_type": "code",
   "execution_count": 2,
   "id": "2948fe6b",
   "metadata": {},
   "outputs": [
    {
     "name": "stdout",
     "output_type": "stream",
     "text": [
      "{'a': 1, 'b': 2}\n"
     ]
    }
   ],
   "source": [
    "list=[(\"a\",1),(\"b\",2)]\n",
    "\n",
    "result = dict(list)\n",
    "print(result)"
   ]
  },
  {
   "cell_type": "markdown",
   "id": "d0b3b10e",
   "metadata": {},
   "source": [
    "2. Given a dictionary with values as lists, write a program to flatten all values into a single \n",
    "list."
   ]
  },
  {
   "cell_type": "code",
   "execution_count": 9,
   "id": "e30f0d4d",
   "metadata": {},
   "outputs": [
    {
     "name": "stdout",
     "output_type": "stream",
     "text": [
      "[1, 2, 3, 4, 5, 6]\n"
     ]
    }
   ],
   "source": [
    "data = {'a': [1, 2], 'b': [3, 4], 'c': [5, 6]}\n",
    "\n",
    "flattened = [item for sublist in data.values() for item in sublist]\n",
    "\n",
    "print(flattened)\n"
   ]
  },
  {
   "cell_type": "markdown",
   "id": "1d136b14",
   "metadata": {},
   "source": [
    "3. Write a program that takes a list with duplicate elements and returns a dictionary with \n",
    "elements as keys and their frequency as values."
   ]
  },
  {
   "cell_type": "code",
   "execution_count": 11,
   "id": "fbc0b3c5",
   "metadata": {},
   "outputs": [
    {
     "name": "stdout",
     "output_type": "stream",
     "text": [
      "{1: 3, 2: 3, 3: 2, 4: 1}\n"
     ]
    }
   ],
   "source": [
    "\n",
    "my_list = [1, 2, 2, 3, 1, 4, 2, 3, 1]\n",
    "\n",
    "freq_dict = {}\n",
    "for item in my_list:\n",
    "    freq_dict[item] = freq_dict.get(item, 0) + 1\n",
    "\n",
    "print(freq_dict)\n"
   ]
  }
 ],
 "metadata": {
  "kernelspec": {
   "display_name": "Python 3",
   "language": "python",
   "name": "python3"
  },
  "language_info": {
   "codemirror_mode": {
    "name": "ipython",
    "version": 3
   },
   "file_extension": ".py",
   "mimetype": "text/x-python",
   "name": "python",
   "nbconvert_exporter": "python",
   "pygments_lexer": "ipython3",
   "version": "3.12.1"
  }
 },
 "nbformat": 4,
 "nbformat_minor": 5
}
