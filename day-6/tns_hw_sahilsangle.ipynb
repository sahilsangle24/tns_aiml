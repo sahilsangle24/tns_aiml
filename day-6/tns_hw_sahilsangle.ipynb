{
 "cells": [
  {
   "cell_type": "markdown",
   "id": "5217aad9",
   "metadata": {},
   "source": [
    "1. Write a program to take two lists from the user and print the common elements using \n",
    "sets. "
   ]
  },
  {
   "cell_type": "code",
   "execution_count": 3,
   "id": "4737126b",
   "metadata": {},
   "outputs": [
    {
     "name": "stdout",
     "output_type": "stream",
     "text": [
      "{0, 4, 5}\n"
     ]
    }
   ],
   "source": [
    "set1={2,3,4,5,0}\n",
    "set2={4,5,6,7,8,9,0}\n",
    "print(set1.intersection(set2))"
   ]
  },
  {
   "cell_type": "markdown",
   "id": "a15e50c4",
   "metadata": {},
   "source": [
    "2. Write a program to check if two sets are disjoint or not."
   ]
  },
  {
   "cell_type": "code",
   "execution_count": 5,
   "id": "655ab2bd",
   "metadata": {},
   "outputs": [
    {
     "name": "stdout",
     "output_type": "stream",
     "text": [
      "True\n"
     ]
    }
   ],
   "source": [
    "set1={10,20,30,40,00}\n",
    "set2={50,60,70,90}\n",
    "result=set1.isdisjoint(set2)\n",
    "print(result)"
   ]
  },
  {
   "cell_type": "markdown",
   "id": "e0b96313",
   "metadata": {},
   "source": [
    "3. Write a program to find all unique vowels present in a given string using set."
   ]
  },
  {
   "cell_type": "code",
   "execution_count": 18,
   "id": "d4cd4ac5",
   "metadata": {},
   "outputs": [
    {
     "name": "stdout",
     "output_type": "stream",
     "text": [
      "Unique vowels present: {'i', 'a'}\n"
     ]
    }
   ],
   "source": [
    "text = input(\"Enter a string: \").lower()\n",
    "\n",
    "vowels = {'a', 'e', 'i', 'o', 'u'}\n",
    "result= set()\n",
    "\n",
    "for char in text:\n",
    "    if char in vowels:\n",
    "        result.add(char)\n",
    "       \n",
    "\n",
    "print(\"Unique vowels present:\", result)\n"
   ]
  }
 ],
 "metadata": {
  "kernelspec": {
   "display_name": "Python 3",
   "language": "python",
   "name": "python3"
  },
  "language_info": {
   "codemirror_mode": {
    "name": "ipython",
    "version": 3
   },
   "file_extension": ".py",
   "mimetype": "text/x-python",
   "name": "python",
   "nbconvert_exporter": "python",
   "pygments_lexer": "ipython3",
   "version": "3.12.1"
  }
 },
 "nbformat": 4,
 "nbformat_minor": 5
}
