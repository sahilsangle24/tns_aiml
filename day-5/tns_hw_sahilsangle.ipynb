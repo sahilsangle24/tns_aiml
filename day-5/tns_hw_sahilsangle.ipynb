{
 "cells": [
  {
   "cell_type": "markdown",
   "id": "afda1d94",
   "metadata": {},
   "source": [
    "1.Write a program to take 5 numbers from the user and store them in a tuple, then print the \n",
    "maximum and minimum."
   ]
  },
  {
   "cell_type": "code",
   "execution_count": 5,
   "id": "c07637bc",
   "metadata": {},
   "outputs": [
    {
     "name": "stdout",
     "output_type": "stream",
     "text": [
      "Numbers entered: (23, 34, 56, 78, 90)\n",
      "Maximum number: 90\n",
      "Minimum number: 23\n"
     ]
    }
   ],
   "source": [
    "# Take 5 numbers in one line and store them in a tuple\n",
    "nums = tuple(map(int, input(\"Enter 5 numbers separated by space: \").split()))\n",
    "\n",
    "# Print the tuple\n",
    "print(\"Numbers entered:\", nums)\n",
    "\n",
    "# Print maximum and minimum\n",
    "print(\"Maximum number:\", max(nums))\n",
    "print(\"Minimum number:\", min(nums))\n"
   ]
  },
  {
   "cell_type": "markdown",
   "id": "a9c83ed8",
   "metadata": {},
   "source": [
    "2. Given a tuple of integers, write a program to count how many elements are divisible by \n",
    "3. "
   ]
  },
  {
   "cell_type": "code",
   "execution_count": 20,
   "id": "07442507",
   "metadata": {},
   "outputs": [
    {
     "name": "stdout",
     "output_type": "stream",
     "text": [
      "3\n",
      "9\n",
      "15\n",
      "30\n",
      "33\n",
      "90\n",
      "total divisible element by 3: 6\n"
     ]
    }
   ],
   "source": [
    "tuple=(3,7,9,15,30,33,50,90,65)\n",
    "count=0\n",
    "for i in tuple:\n",
    "    if i%3==0:\n",
    "        print(i)\n",
    "        count += 1\n",
    "print(\"total divisible element by 3:\",count)"
   ]
  },
  {
   "cell_type": "markdown",
   "id": "4092f9dc",
   "metadata": {},
   "source": [
    "3.Write a program to reverse the contents of a tuple without using reversed(). "
   ]
  },
  {
   "cell_type": "code",
   "execution_count": 39,
   "id": "f91fe778",
   "metadata": {},
   "outputs": [
    {
     "name": "stdout",
     "output_type": "stream",
     "text": [
      "(60, 50, 40, 30, 20, 10)\n"
     ]
    }
   ],
   "source": [
    "org_tuple=(10,20,30,40,50,60)\n",
    "original_rev=tuple[::-1]\n",
    "print(original_rev)\n"
   ]
  }
 ],
 "metadata": {
  "kernelspec": {
   "display_name": "Python 3",
   "language": "python",
   "name": "python3"
  },
  "language_info": {
   "codemirror_mode": {
    "name": "ipython",
    "version": 3
   },
   "file_extension": ".py",
   "mimetype": "text/x-python",
   "name": "python",
   "nbconvert_exporter": "python",
   "pygments_lexer": "ipython3",
   "version": "3.12.1"
  }
 },
 "nbformat": 4,
 "nbformat_minor": 5
}
