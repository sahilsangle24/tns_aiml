{
 "cells": [
  {
   "cell_type": "markdown",
   "id": "249f4568",
   "metadata": {},
   "source": [
    "1. Write a program that takes a sentence and creates a dictionary with word counts."
   ]
  },
  {
   "cell_type": "code",
   "execution_count": null,
   "id": "3271b982",
   "metadata": {},
   "outputs": [
    {
     "name": "stdout",
     "output_type": "stream",
     "text": [
      "Word counts: {'hey': 1, 'i': 1, 'am': 1, 'sahil': 1, 'from': 1, 'iit': 1, 'bombay': 1}\n"
     ]
    }
   ],
   "source": [
    "\n",
    "sentence = input(\"Enter a sentence: \").lower()\n",
    "\n",
    "words = sentence.split()\n",
    "word_count = {}\n",
    "\n",
    "for word in words:\n",
    "    word_count[word] = word_count.get(word, 0) + 1\n",
    "\n",
    "print(\"Word counts:\", word_count)\n"
   ]
  },
  {
   "cell_type": "code",
   "execution_count": null,
   "id": "15bcbcb4",
   "metadata": {},
   "outputs": [],
   "source": [
    "2. Write a program to map roll numbers to names using two lists and form a dictionary."
   ]
  },
  {
   "cell_type": "code",
   "execution_count": 4,
   "id": "06d1becc",
   "metadata": {},
   "outputs": [
    {
     "name": "stdout",
     "output_type": "stream",
     "text": [
      "Roll Number to Name mapping: {101: 'Amit', 102: 'Neha', 103: 'Ravi'}\n"
     ]
    }
   ],
   "source": [
    "\n",
    "roll_numbers = [101, 102, 103]\n",
    "names = [\"Amit\", \"Neha\", \"Ravi\"]\n",
    "\n",
    "student_dict = dict(zip(roll_numbers, names))\n",
    "\n",
    "print(\"Roll Number to Name mapping:\", student_dict)\n"
   ]
  },
  {
   "cell_type": "markdown",
   "id": "bf4faf81",
   "metadata": {},
   "source": [
    "3. Write a program that takes a dictionary of students and their marks, and prints the \n",
    "name(s) of the student(s) with the highest marks.\n",
    "\n"
   ]
  },
  {
   "cell_type": "code",
   "execution_count": 7,
   "id": "6ca1ba8a",
   "metadata": {},
   "outputs": [
    {
     "name": "stdout",
     "output_type": "stream",
     "text": [
      "Highest marks: 98\n",
      "Top student(s): ['darsh', 'parth']\n"
     ]
    }
   ],
   "source": [
    "\n",
    "students = {\"sahi\":90,\"darsh\":98,\"parth\":98,\"bhau\":97}\n",
    "\n",
    "highest_marks = max(students.values())\n",
    "top_students = [name for name, marks in students.items() if marks == highest_marks]\n",
    "\n",
    "print(\"Highest marks:\", highest_marks)\n",
    "print(\"Top student(s):\", top_students)\n"
   ]
  }
 ],
 "metadata": {
  "kernelspec": {
   "display_name": "Python 3",
   "language": "python",
   "name": "python3"
  },
  "language_info": {
   "codemirror_mode": {
    "name": "ipython",
    "version": 3
   },
   "file_extension": ".py",
   "mimetype": "text/x-python",
   "name": "python",
   "nbconvert_exporter": "python",
   "pygments_lexer": "ipython3",
   "version": "3.12.1"
  }
 },
 "nbformat": 4,
 "nbformat_minor": 5
}
