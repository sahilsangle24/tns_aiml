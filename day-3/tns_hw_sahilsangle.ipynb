{
 "cells": [
  {
   "cell_type": "markdown",
   "id": "59034b5e",
   "metadata": {},
   "source": [
    "1. Write a function to check whether a given string is a pangram (contains all letters of the \n",
    "alphabet)"
   ]
  },
  {
   "cell_type": "code",
   "execution_count": null,
   "id": "92f103f8",
   "metadata": {},
   "outputs": [
    {
     "name": "stdout",
     "output_type": "stream",
     "text": [
      "Yes, it's a pangram!\n"
     ]
    }
   ],
   "source": [
    "def is_pangram(text):\n",
    "    alphabet = set('abcdefghijklmnopqrstuvwxyz')\n",
    "    text_lower = text.lower()\n",
    "    return alphabet <= set(text_lower)\n",
    "\n",
    "\n",
    "sentence = \"The quick brown fox jumps over the lazy dog\"\n",
    "if is_pangram(sentence):\n",
    "    print(\"Yes, it's a pangram!\")\n",
    "else:\n",
    "    print(\"No, it's not a pangram.\")\n"
   ]
  },
  {
   "cell_type": "markdown",
   "id": "a8fa30e5",
   "metadata": {},
   "source": [
    "2.Write a function that takes a sentence and returns the word with the maximum length. "
   ]
  },
  {
   "cell_type": "code",
   "execution_count": 1,
   "id": "1e0d1862",
   "metadata": {},
   "outputs": [
    {
     "name": "stdout",
     "output_type": "stream",
     "text": [
      "Longest word: intelligence\n"
     ]
    }
   ],
   "source": [
    "def longest_word(sentence):\n",
    "    words = sentence.split()  # Split sentence into words\n",
    "    max_word = max(words, key=len)  # Find the word with the maximum length\n",
    "    return max_word\n",
    "\n",
    "sentence = \"Artificial intelligence is fascinating\"\n",
    "print(\"Longest word:\", longest_word(sentence))\n"
   ]
  },
  {
   "cell_type": "markdown",
   "id": "8b814536",
   "metadata": {},
   "source": []
  }
 ],
 "metadata": {
  "kernelspec": {
   "display_name": "Python 3",
   "language": "python",
   "name": "python3"
  },
  "language_info": {
   "codemirror_mode": {
    "name": "ipython",
    "version": 3
   },
   "file_extension": ".py",
   "mimetype": "text/x-python",
   "name": "python",
   "nbconvert_exporter": "python",
   "pygments_lexer": "ipython3",
   "version": "3.12.1"
  }
 },
 "nbformat": 4,
 "nbformat_minor": 5
}
